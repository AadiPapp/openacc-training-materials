{
 "cells": [
  {
   "cell_type": "markdown",
   "metadata": {},
   "source": [
    "# Welcome to the OpenACC Online Course Labs\n",
    "\n",
    "Welcome to the lab portion of the OpenACC online course, sposored by NVIDIA and Amazon Web Services. Please select the appropriate lab below.\n",
    "\n",
    "* [Lab 1](/notebooks/lab1/English/Lab1.ipynb)\n",
    "* [Lab 2](/notebooks/lab2/English/Lab2.ipynb)\n",
    "* [Lab 3](/notebooks/lab3/English/Lab3.ipynb)"
   ]
  }
 ],
 "metadata": {
  "kernelspec": {
   "display_name": "Python 3",
   "language": "python",
   "name": "python3"
  },
  "language_info": {
   "codemirror_mode": {
    "name": "ipython",
    "version": 3
   },
   "file_extension": ".py",
   "mimetype": "text/x-python",
   "name": "python",
   "nbconvert_exporter": "python",
   "pygments_lexer": "ipython3",
   "version": "3.6.9"
  }
 },
 "nbformat": 4,
 "nbformat_minor": 2
}
